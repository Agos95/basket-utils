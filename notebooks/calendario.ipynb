{
 "cells": [
  {
   "cell_type": "code",
   "execution_count": 1,
   "id": "960ff7de",
   "metadata": {},
   "outputs": [],
   "source": [
    "import pdfplumber\n",
    "import re\n",
    "\n",
    "import math\n",
    "import csv"
   ]
  },
  {
   "cell_type": "code",
   "execution_count": 2,
   "id": "873f6b34",
   "metadata": {},
   "outputs": [],
   "source": [
    "pdf = pdfplumber.open(\"../data/calendario.pdf\")"
   ]
  },
  {
   "cell_type": "code",
   "execution_count": 3,
   "id": "d5dc0675",
   "metadata": {},
   "outputs": [],
   "source": [
    "# headers = [\"Gara N\", \"Squadra A\", \"Squadra B\", \"Giorno\", \"Data\", \"Ora\"]\n",
    "# coordinates = [\"x0\", \"top\", \"x1\", \"bottom\"]\n",
    "# first_page = pdf.pages[0]\n",
    "\n",
    "# for header in headers:\n",
    "#     print(f\"=== {header} ===\")\n",
    "#     search = first_page.search(header, case=False)[0]\n",
    "#     for coordinate in coordinates:\n",
    "#         print(f\"{coordinate}: {search[coordinate]}\")\n",
    "#     print(\"\\n\")"
   ]
  },
  {
   "cell_type": "code",
   "execution_count": 4,
   "id": "e8577789",
   "metadata": {},
   "outputs": [],
   "source": [
    "first_page = pdf.pages[0]\n",
    "\n",
    "HEADER_BOTTOM = math.ceil(first_page.search(\"Gara N\", case=False)[0][\"bottom\"])\n",
    "SQUADRA_A_LEFT = math.floor(first_page.search(\"Squadra A\", case=False)[0][\"x0\"])\n",
    "SQUADRA_B_LEFT = math.floor(first_page.search(\"Squadra B\", case=False)[0][\"x0\"])\n",
    "GIORNO_LEFT = math.floor(first_page.search(\"Giorno\", case=False)[0][\"x0\"])\n",
    "GIORNO_RIGHT = math.ceil(first_page.search(\"Giorno\", case=False)[0][\"x1\"])"
   ]
  },
  {
   "cell_type": "code",
   "execution_count": 5,
   "id": "4285ca7e",
   "metadata": {},
   "outputs": [],
   "source": [
    "def filter_exclude_header(obj):\n",
    "    return obj[\"bottom\"] > HEADER_BOTTOM\n",
    "\n",
    "\n",
    "def filter_bold_chars(obj):\n",
    "    return \"bold\" in obj[\"fontname\"].lower()\n",
    "\n",
    "\n",
    "# def num_gara(obj):\n",
    "#     return obj[\"x0\"] < 88\n",
    "\n",
    "\n",
    "def filter_squadra_a(obj):\n",
    "    return (\n",
    "        filter_exclude_header(obj)\n",
    "        and filter_bold_chars(obj)\n",
    "        and (obj[\"x0\"] > SQUADRA_A_LEFT)\n",
    "        and (obj[\"x1\"] < SQUADRA_B_LEFT)\n",
    "    )\n",
    "\n",
    "\n",
    "def filter_squadra_b(obj):\n",
    "    return (\n",
    "        filter_exclude_header(obj)\n",
    "        and filter_bold_chars(obj)\n",
    "        and (obj[\"x0\"] > SQUADRA_B_LEFT)\n",
    "        and (obj[\"x1\"] < GIORNO_LEFT)\n",
    "    )\n",
    "\n",
    "\n",
    "def filter_date_time(obj):\n",
    "    return (\n",
    "        filter_exclude_header(obj)\n",
    "        and filter_bold_chars(obj)\n",
    "        and obj[\"x0\"] > GIORNO_RIGHT\n",
    "    )\n",
    "\n",
    "\n",
    "def filter_address(obj):\n",
    "    return filter_exclude_header(obj) and not filter_bold_chars(obj)"
   ]
  },
  {
   "cell_type": "code",
   "execution_count": 6,
   "id": "ba3b4726",
   "metadata": {},
   "outputs": [],
   "source": [
    "def _split_and_remove_spaces(text: str) -> str:\n",
    "    # there is always a blank line between consecutive entries\n",
    "    # while a single entry can be on two consecutive lines\n",
    "    text = re.split(r\"^ *\\n\", text, flags=re.MULTILINE)\n",
    "    # remove extra whitespace\n",
    "    text = [\n",
    "        re.sub(r\"\\s{3,}\", \" \", t.strip()).replace(\"  \", \" \") for t in text if t.strip()\n",
    "    ]\n",
    "    return text\n",
    "\n",
    "\n",
    "def postprocess_teams(text: str) -> list[str]:\n",
    "    # remove subheaders such \"1 Giornata di Andata\"\n",
    "    text = re.sub(r\"^.*Giornata di.*$\", \"\", text, flags=re.MULTILINE | re.IGNORECASE)\n",
    "\n",
    "    teams = _split_and_remove_spaces(text)\n",
    "    # if there are two digits in subheader such as \"10 Giornata di ...\"\n",
    "    # one of the digit may be caught inside the team column,\n",
    "    # so we remove it\n",
    "    teams = [t for t in teams if re.sub(r\"\\d+\", \"\", t)]\n",
    "\n",
    "    return teams\n",
    "\n",
    "\n",
    "def postprocess_date_time(text: str) -> list[tuple[str, str]]:\n",
    "    # there is always a blank line between consecutive entries\n",
    "    text = _split_and_remove_spaces(text)\n",
    "    # split date (DD/MM/YYYY) and time (HH:MM) using spaces between them\n",
    "    dt = [re.split(r\" +\", t.strip()) for t in text if t.strip()]\n",
    "    return dt\n",
    "\n",
    "\n",
    "def postprocess_address(text: str) -> list[tuple[str, str]]:\n",
    "    # there is always a blank line between consecutive entries\n",
    "    text = _split_and_remove_spaces(text)\n",
    "    # get court name and address using the first '-' as separator\n",
    "    # (optionally with white space around it)\n",
    "    address = [\n",
    "        re.split(r\" *- *\", t, maxsplit=1) for t in text if \"note\" not in t.lower()\n",
    "    ]\n",
    "    return address"
   ]
  },
  {
   "cell_type": "code",
   "execution_count": 7,
   "id": "01387312",
   "metadata": {},
   "outputs": [],
   "source": [
    "filters_func = {\n",
    "    \"squadra_a\": filter_squadra_a,\n",
    "    \"squadra_b\": filter_squadra_b,\n",
    "    \"date_time\": filter_date_time,\n",
    "    \"address\": filter_address,\n",
    "}\n",
    "\n",
    "postprocess_func = {\n",
    "    \"squadra_a\": postprocess_teams,\n",
    "    \"squadra_b\": postprocess_teams,\n",
    "    \"date_time\": postprocess_date_time,\n",
    "    \"address\": postprocess_address,\n",
    "}"
   ]
  },
  {
   "cell_type": "code",
   "execution_count": 8,
   "id": "42ad5892",
   "metadata": {},
   "outputs": [],
   "source": [
    "result = {\n",
    "    \"squadra_a\": \"\",\n",
    "    \"squadra_b\": \"\",\n",
    "    \"date_time\": \"\",\n",
    "    \"address\": \"\",\n",
    "}"
   ]
  },
  {
   "cell_type": "code",
   "execution_count": 9,
   "id": "6ba8f1b6",
   "metadata": {},
   "outputs": [],
   "source": [
    "for page in pdf.pages[:]:\n",
    "    for k in result.keys():\n",
    "        filter_page = page.filter(lambda obj: filters_func[k](obj))\n",
    "        text = filter_page.extract_text(layout=True, use_text_flow=False)\n",
    "        result[k] += f\"\\n{text}\"\n"
   ]
  },
  {
   "cell_type": "code",
   "execution_count": 10,
   "id": "aef49eaa",
   "metadata": {},
   "outputs": [],
   "source": [
    "for k, v in result.items():\n",
    "    result[k] = postprocess_func[k](v)"
   ]
  },
  {
   "cell_type": "code",
   "execution_count": 11,
   "id": "39e35a85",
   "metadata": {},
   "outputs": [
    {
     "name": "stdout",
     "output_type": "stream",
     "text": [
      "Found 240 entries\n"
     ]
    }
   ],
   "source": [
    "# check if all have same length\n",
    "tot = [len(v) for v in result.values()]\n",
    "N = tot[0]\n",
    "if not all([t == N for t in tot]):\n",
    "    print(\"Error: found different number of entries\")\n",
    "    for k, v in result.items():\n",
    "        print(f\"  {k}: {len(v)}\")\n",
    "    raise ValueError(\"Different number of entries\")\n",
    "else:\n",
    "    print(f\"Found {N} entries\")"
   ]
  },
  {
   "cell_type": "code",
   "execution_count": 12,
   "id": "d1fd4c19",
   "metadata": {},
   "outputs": [],
   "source": [
    "out_file = \"../data/calendario.csv\"\n",
    "header = [\"Home\", \"Away\", \"Date\", \"Time\", \"Court\", \"Address\"]\n",
    "\n",
    "team = \"arcella\"\n",
    "team = team.lower()\n",
    "\n",
    "with open(out_file, \"w\") as f:\n",
    "    writer = csv.DictWriter(f, fieldnames=header)\n",
    "\n",
    "    writer.writeheader()\n",
    "    for i in range(N):\n",
    "        if team:\n",
    "            if (\n",
    "                team not in result[\"squadra_a\"][i].lower()\n",
    "                and team not in result[\"squadra_b\"][i].lower()\n",
    "            ):\n",
    "                continue\n",
    "\n",
    "        row = {\n",
    "            \"Home\": result[\"squadra_a\"][i],\n",
    "            \"Away\": result[\"squadra_b\"][i],\n",
    "            \"Date\": result[\"date_time\"][i][0],\n",
    "            \"Time\": result[\"date_time\"][i][1],\n",
    "            \"Court\": result[\"address\"][i][0],\n",
    "            \"Address\": result[\"address\"][i][1],\n",
    "        }\n",
    "        writer.writerow(row)"
   ]
  },
  {
   "cell_type": "code",
   "execution_count": null,
   "id": "66fd2ed2",
   "metadata": {},
   "outputs": [],
   "source": []
  }
 ],
 "metadata": {
  "kernelspec": {
   "display_name": ".venv",
   "language": "python",
   "name": "python3"
  },
  "language_info": {
   "codemirror_mode": {
    "name": "ipython",
    "version": 3
   },
   "file_extension": ".py",
   "mimetype": "text/x-python",
   "name": "python",
   "nbconvert_exporter": "python",
   "pygments_lexer": "ipython3",
   "version": "3.12.3"
  }
 },
 "nbformat": 4,
 "nbformat_minor": 5
}
