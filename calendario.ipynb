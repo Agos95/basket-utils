{
 "cells": [
  {
   "cell_type": "code",
   "execution_count": 1,
   "id": "960ff7de",
   "metadata": {},
   "outputs": [],
   "source": [
    "import pdfplumber\n",
    "import re"
   ]
  },
  {
   "cell_type": "code",
   "execution_count": 2,
   "id": "873f6b34",
   "metadata": {},
   "outputs": [],
   "source": [
    "pdf = pdfplumber.open(\"calendario.pdf\")"
   ]
  },
  {
   "cell_type": "code",
   "execution_count": 3,
   "id": "1f46cf1e",
   "metadata": {},
   "outputs": [
    {
     "name": "stdout",
     "output_type": "stream",
     "text": [
      "{'Helvetica-Bold', 'Helvetica'}\n",
      "{8.0, 9.0, 10.0, 11.999999999999986, 12.000000000000007, 12.0, 11.999999999999943, 12.000000000000028, 20.0, 24.0}\n"
     ]
    }
   ],
   "source": [
    "print(set(char[\"fontname\"] for char in pdf.chars))\n",
    "print(set(char[\"size\"] for char in pdf.chars))"
   ]
  },
  {
   "cell_type": "code",
   "execution_count": 4,
   "id": "d5dc0675",
   "metadata": {},
   "outputs": [
    {
     "name": "stdout",
     "output_type": "stream",
     "text": [
      "=== Gara N ===\n",
      "x0: 36.0\n",
      "top: 171.48400000000004\n",
      "x1: 75.348\n",
      "bottom: 183.48400000000004\n",
      "\n",
      "\n",
      "=== Squadra A ===\n",
      "x0: 88.7\n",
      "top: 171.48400000000004\n",
      "x1: 145.4\n",
      "bottom: 183.48400000000004\n",
      "\n",
      "\n",
      "=== Squadra B ===\n",
      "x0: 246.8\n",
      "top: 171.48400000000004\n",
      "x1: 303.50000000000006\n",
      "bottom: 183.48400000000004\n",
      "\n",
      "\n",
      "=== Giorno ===\n",
      "x0: 404.9\n",
      "top: 171.48400000000004\n",
      "x1: 440.912\n",
      "bottom: 183.48400000000004\n",
      "\n",
      "\n",
      "=== Data ===\n",
      "x0: 496.74\n",
      "top: 72.65599999999995\n",
      "x1: 514.076\n",
      "bottom: 80.65599999999995\n",
      "\n",
      "\n",
      "=== Ora ===\n",
      "x0: 499.42\n",
      "top: 84.65599999999995\n",
      "x1: 513.2040000000001\n",
      "bottom: 92.65599999999995\n",
      "\n",
      "\n"
     ]
    }
   ],
   "source": [
    "headers = [\"Gara N\", \"Squadra A\", \"Squadra B\", \"Giorno\", \"Data\", \"Ora\"]\n",
    "coordinates = [\"x0\", \"top\", \"x1\", \"bottom\"]\n",
    "first_page = pdf.pages[0]\n",
    "\n",
    "for header in headers:\n",
    "    print(f\"=== {header} ===\")\n",
    "    search = first_page.search(header)[0]\n",
    "    for coordinate in coordinates:\n",
    "        print(f\"{coordinate}: {search[coordinate]}\")\n",
    "    print(\"\\n\")"
   ]
  },
  {
   "cell_type": "code",
   "execution_count": 6,
   "id": "4285ca7e",
   "metadata": {},
   "outputs": [],
   "source": [
    "def filter_exclude_header(obj):\n",
    "    return obj[\"bottom\"] > 184\n",
    "\n",
    "\n",
    "def filter_bold_chars(obj):\n",
    "    return \"bold\" in obj[\"fontname\"].lower()\n",
    "\n",
    "\n",
    "# def num_gara(obj):\n",
    "#     return obj[\"x0\"] < 88\n",
    "\n",
    "\n",
    "def filter_squadra_a(obj):\n",
    "    return (\n",
    "        filter_exclude_header(obj)\n",
    "        and filter_bold_chars(obj)\n",
    "        and (obj[\"x0\"] > 88)\n",
    "        and (obj[\"x1\"] < 246)\n",
    "    )\n",
    "\n",
    "\n",
    "def filter_squadra_b(obj):\n",
    "    return (\n",
    "        filter_exclude_header(obj)\n",
    "        and filter_bold_chars(obj)\n",
    "        and (obj[\"x0\"] > 246)\n",
    "        and (obj[\"x1\"] < 404)\n",
    "    )\n",
    "\n",
    "\n",
    "def filter_date_time(obj):\n",
    "    return filter_exclude_header(obj) and filter_bold_chars(obj) and obj[\"x0\"] > 440\n",
    "\n",
    "\n",
    "def filter_address(obj):\n",
    "    return filter_exclude_header(obj) and not filter_bold_chars(obj)"
   ]
  },
  {
   "cell_type": "code",
   "execution_count": 7,
   "id": "ba3b4726",
   "metadata": {},
   "outputs": [],
   "source": [
    "def postprocess_teams(text: str) -> list[str]:\n",
    "    text = re.sub(r\"^.*Giornata di.*$\", \"\", text, flags=re.MULTILINE | re.IGNORECASE)\n",
    "\n",
    "    teams = re.split(r\"^ *\\n\", text, flags=re.MULTILINE)\n",
    "    teams = [\n",
    "        re.sub(r\"\\s{3,}\", \" \", t.strip()).replace(\"  \", \" \") for t in teams if t.strip()\n",
    "    ]\n",
    "    teams = [t for t in teams if re.sub(r\"\\d+\", \"\", t)]\n",
    "\n",
    "    return teams\n",
    "\n",
    "\n",
    "def postprocess_date_time(text: str) -> list[tuple[str, str]]:\n",
    "    text = re.split(r\"^ *\\n\", text, flags=re.MULTILINE)\n",
    "    dt = [re.split(r\" +\", t.strip()) for t in text if t.strip()]\n",
    "    return dt\n",
    "\n",
    "\n",
    "def postprocess_address(text: str) -> list[tuple[str, str]]:\n",
    "    text = re.split(r\"^ *\\n\", text, flags=re.MULTILINE)\n",
    "    text = [\n",
    "        re.sub(r\"\\s{3,}\", \" \", t.strip()).replace(\"  \", \" \") for t in text if t.strip()\n",
    "    ]\n",
    "    address = [\n",
    "        re.split(r\" *- *\", t, maxsplit=1) for t in text if \"note\" not in t.lower()\n",
    "    ]\n",
    "    return address"
   ]
  },
  {
   "cell_type": "code",
   "execution_count": 8,
   "id": "01387312",
   "metadata": {},
   "outputs": [],
   "source": [
    "filters_func = {\n",
    "    \"squadra_a\": filter_squadra_a,\n",
    "    \"squadra_b\": filter_squadra_b,\n",
    "    \"date_time\": filter_date_time,\n",
    "    \"address\": filter_address,\n",
    "}\n",
    "\n",
    "postprocess_func = {\n",
    "    \"squadra_a\": postprocess_teams,\n",
    "    \"squadra_b\": postprocess_teams,\n",
    "    \"date_time\": postprocess_date_time,\n",
    "    \"address\": postprocess_address,\n",
    "}"
   ]
  },
  {
   "cell_type": "code",
   "execution_count": 9,
   "id": "42ad5892",
   "metadata": {},
   "outputs": [],
   "source": [
    "result = {\n",
    "    \"squadra_a\": \"\",\n",
    "    \"squadra_b\": \"\",\n",
    "    \"date_time\": \"\",\n",
    "    \"address\": \"\",\n",
    "}"
   ]
  },
  {
   "cell_type": "code",
   "execution_count": 10,
   "id": "6ba8f1b6",
   "metadata": {},
   "outputs": [],
   "source": [
    "for page in pdf.pages[:]:\n",
    "    for k in result.keys():\n",
    "        filter_page = page.filter(lambda obj: filters_func[k](obj))\n",
    "        text = filter_page.extract_text(layout=True, use_text_flow=False)\n",
    "        result[k] += f\"\\n{text}\"\n"
   ]
  },
  {
   "cell_type": "code",
   "execution_count": 11,
   "id": "aef49eaa",
   "metadata": {},
   "outputs": [],
   "source": [
    "for k, v in result.items():\n",
    "    result[k] = postprocess_func[k](v)"
   ]
  },
  {
   "cell_type": "code",
   "execution_count": 12,
   "id": "f4c3f3c4",
   "metadata": {},
   "outputs": [
    {
     "name": "stdout",
     "output_type": "stream",
     "text": [
      "squadra_a: 240\n",
      "squadra_b: 240\n",
      "date_time: 240\n",
      "address: 240\n"
     ]
    }
   ],
   "source": [
    "for k, v in result.items():\n",
    "    print(f\"{k}: {len(v)}\")"
   ]
  },
  {
   "cell_type": "code",
   "execution_count": null,
   "id": "38a075f4",
   "metadata": {},
   "outputs": [],
   "source": []
  }
 ],
 "metadata": {
  "kernelspec": {
   "display_name": ".venv",
   "language": "python",
   "name": "python3"
  },
  "language_info": {
   "codemirror_mode": {
    "name": "ipython",
    "version": 3
   },
   "file_extension": ".py",
   "mimetype": "text/x-python",
   "name": "python",
   "nbconvert_exporter": "python",
   "pygments_lexer": "ipython3",
   "version": "3.12.3"
  }
 },
 "nbformat": 4,
 "nbformat_minor": 5
}
